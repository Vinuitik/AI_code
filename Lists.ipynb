{
 "cells": [
  {
   "cell_type": "code",
   "execution_count": 2,
   "metadata": {},
   "outputs": [
    {
     "name": "stdout",
     "output_type": "stream",
     "text": [
      "Positive\n"
     ]
    }
   ],
   "source": [
    "value = 18\n",
    "\n",
    "if( value > 0):\n",
    "    print(\"Positive\")\n",
    "elif( value < 0 ):\n",
    "    print(\"Negative\")\n",
    "elif(value == 0):\n",
    "    print(\"Zero\")\n",
    "    \n"
   ]
  },
  {
   "cell_type": "code",
   "execution_count": 6,
   "metadata": {},
   "outputs": [],
   "source": [
    "numbers = [1,2]\n",
    "\n",
    "sum = 0\n",
    "cnt = 0\n",
    "for number in numbers:\n",
    "    sum+=number\n",
    "    cnt+=1"
   ]
  },
  {
   "cell_type": "code",
   "execution_count": 7,
   "metadata": {},
   "outputs": [
    {
     "name": "stdout",
     "output_type": "stream",
     "text": [
      "1.5\n"
     ]
    }
   ],
   "source": [
    "if(cnt == 0):\n",
    "    print(0)\n",
    "else:\n",
    "    result = sum/cnt\n",
    "    print(result)"
   ]
  },
  {
   "cell_type": "code",
   "execution_count": 8,
   "metadata": {},
   "outputs": [
    {
     "name": "stdout",
     "output_type": "stream",
     "text": [
      "1.5\n"
     ]
    }
   ],
   "source": [
    "sum = 0\n",
    "cnt = 0\n",
    "\n",
    "for number in numbers:\n",
    "    sum+=number\n",
    "    cnt+=1\n",
    "    \n",
    "if(cnt == 0):\n",
    "    print(0)\n",
    "else:\n",
    "    print(sum/cnt)\n"
   ]
  },
  {
   "cell_type": "code",
   "execution_count": 50,
   "metadata": {},
   "outputs": [
    {
     "name": "stdout",
     "output_type": "stream",
     "text": [
      "6\n"
     ]
    }
   ],
   "source": [
    "list = [ 1,2,\"Hello\",\"Hello\", 3.4, 5 ]\n",
    "\n",
    "print( len( list ) )"
   ]
  },
  {
   "cell_type": "code",
   "execution_count": 43,
   "metadata": {},
   "outputs": [
    {
     "name": "stdout",
     "output_type": "stream",
     "text": [
      "[]\n"
     ]
    }
   ],
   "source": [
    "print( list[2:0:2] )\n",
    "\n",
    "# list [ start:end:step ]"
   ]
  },
  {
   "cell_type": "code",
   "execution_count": 36,
   "metadata": {},
   "outputs": [
    {
     "name": "stdout",
     "output_type": "stream",
     "text": [
      "1\n",
      "Hello\n",
      "5\n"
     ]
    }
   ],
   "source": [
    "index = 0\n",
    "while index < 6:\n",
    "    print(list[index])\n",
    "    index+=2*list[index]"
   ]
  },
  {
   "cell_type": "code",
   "execution_count": 51,
   "metadata": {},
   "outputs": [
    {
     "name": "stdout",
     "output_type": "stream",
     "text": [
      "[1, 2, 'Hello', 'Hello', 3.4, 5, [1, 6]]\n"
     ]
    }
   ],
   "source": [
    "list.append([1,6])\n",
    "print(list)"
   ]
  },
  {
   "cell_type": "code",
   "execution_count": 48,
   "metadata": {},
   "outputs": [
    {
     "name": "stdout",
     "output_type": "stream",
     "text": [
      "6\n"
     ]
    }
   ],
   "source": [
    "print(list[-1][1])"
   ]
  },
  {
   "cell_type": "code",
   "execution_count": 52,
   "metadata": {},
   "outputs": [
    {
     "name": "stdout",
     "output_type": "stream",
     "text": [
      "[1, 2, 'Hello', 3.4, 5, [1, 6]]\n"
     ]
    }
   ],
   "source": [
    "list.remove(\"Hello\")\n",
    "\n",
    "print(list)"
   ]
  },
  {
   "cell_type": "code",
   "execution_count": 57,
   "metadata": {},
   "outputs": [],
   "source": [
    "for index in range(0, len(list)):\n",
    "    list[index]*=2 "
   ]
  },
  {
   "cell_type": "code",
   "execution_count": 58,
   "metadata": {},
   "outputs": [
    {
     "name": "stdout",
     "output_type": "stream",
     "text": [
      "[8, 4, 'HelloHello', 6.8, 10, [1, 6, 1, 6]]\n"
     ]
    }
   ],
   "source": [
    "list[0] = 2*list[0]\n",
    "\n",
    "print(list)"
   ]
  },
  {
   "cell_type": "code",
   "execution_count": null,
   "metadata": {},
   "outputs": [],
   "source": [
    "elements = int(input(\"How many elements do you want to add?\"))\n",
    "numbers = []\n",
    "\n",
    "for index in range(0, elements):\n",
    "    numbers.append( int(input( \" Your number: \" )) )\n",
    "    \n",
    "for index in range(0, len(numbers)):\n",
    "    number[index]*=2\n",
    "    \n",
    "print(numbers)"
   ]
  }
 ],
 "metadata": {
  "kernelspec": {
   "display_name": ".venv",
   "language": "python",
   "name": "python3"
  },
  "language_info": {
   "codemirror_mode": {
    "name": "ipython",
    "version": 3
   },
   "file_extension": ".py",
   "mimetype": "text/x-python",
   "name": "python",
   "nbconvert_exporter": "python",
   "pygments_lexer": "ipython3",
   "version": "3.10.4"
  }
 },
 "nbformat": 4,
 "nbformat_minor": 2
}
