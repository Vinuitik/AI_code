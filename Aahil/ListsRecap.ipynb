{
 "cells": [
  {
   "cell_type": "code",
   "execution_count": 1,
   "metadata": {},
   "outputs": [
    {
     "name": "stdout",
     "output_type": "stream",
     "text": [
      "Accessing elements in a one-dimensional list:\n",
      "First element: 10\n",
      "Last element: 50\n"
     ]
    }
   ],
   "source": [
    "# Comprehensive Lesson: Working with One-Dimensional and Multi-Dimensional Lists in Python\n",
    "\n",
    "## One-Dimensional Lists\n",
    "\n",
    "# Define a one-dimensional list\n",
    "one_dimensional = [10, 20, 30, 40, 50]\n",
    "\n",
    "# 1. Accessing Elements\n",
    "print(\"Accessing elements in a one-dimensional list:\")\n",
    "print(f\"First element: {one_dimensional[0]}\")\n",
    "print(f\"Last element: {one_dimensional[-1]}\")\n",
    "\n"
   ]
  },
  {
   "cell_type": "code",
   "execution_count": 2,
   "metadata": {},
   "outputs": [
    {
     "name": "stdout",
     "output_type": "stream",
     "text": [
      "\n",
      "Iterating through a one-dimensional list using indices:\n",
      "Index 0: Value 10\n",
      "Index 1: Value 20\n",
      "Index 2: Value 30\n",
      "Index 3: Value 40\n",
      "Index 4: Value 50\n",
      "\n",
      "Iterating through a one-dimensional list using a for-each loop:\n",
      "Value: 10\n",
      "Value: 20\n",
      "Value: 30\n",
      "Value: 40\n",
      "Value: 50\n"
     ]
    }
   ],
   "source": [
    "# 2. Iterating Through the List Using Indices\n",
    "print(\"\\nIterating through a one-dimensional list using indices:\")\n",
    "for i in range(len(one_dimensional)):\n",
    "    print(f\"Index {i}: Value {one_dimensional[i]}\")\n",
    "\n",
    "# 3. Iterating Using For-Each Loop\n",
    "print(\"\\nIterating through a one-dimensional list using a for-each loop:\")\n",
    "for value in one_dimensional:\n",
    "    print(f\"Value: {value}\")\n",
    "\n"
   ]
  },
  {
   "cell_type": "code",
   "execution_count": 3,
   "metadata": {},
   "outputs": [
    {
     "name": "stdout",
     "output_type": "stream",
     "text": [
      "\n",
      "Modifying elements in the list:\n",
      "Updated list: [10, 20, 35, 40, 50]\n",
      "\n",
      "Adding and removing elements:\n",
      "After append: [10, 20, 35, 40, 50, 60]\n",
      "After pop: [10, 35, 40, 50, 60]\n",
      "\n",
      "Slicing a list:\n",
      "Sliced list (index 1 to 3): [35, 40, 50]\n"
     ]
    }
   ],
   "source": [
    "# 4. Modifying Elements\n",
    "print(\"\\nModifying elements in the list:\")\n",
    "one_dimensional[2] = 35  # Changing the third element\n",
    "print(f\"Updated list: {one_dimensional}\")\n",
    "\n",
    "# 5. Adding and Removing Elements\n",
    "print(\"\\nAdding and removing elements:\")\n",
    "one_dimensional.append(60)  # Adding an element at the end\n",
    "print(f\"After append: {one_dimensional}\")\n",
    "one_dimensional.pop(1)  # Removing the second element\n",
    "print(f\"After pop: {one_dimensional}\")\n",
    "\n",
    "# 6. Slicing a List\n",
    "print(\"\\nSlicing a list:\")\n",
    "slice_example = one_dimensional[1:4]  # Getting a sublist from index 1 to 3\n",
    "print(f\"Sliced list (index 1 to 3): {slice_example}\")\n",
    "\n"
   ]
  },
  {
   "cell_type": "code",
   "execution_count": 4,
   "metadata": {},
   "outputs": [
    {
     "name": "stdout",
     "output_type": "stream",
     "text": [
      "\n",
      "Accessing elements in a multi-dimensional list:\n",
      "Element at Row 0, Column 1: 2\n",
      "Element at Row 2, Column 2: 9\n"
     ]
    }
   ],
   "source": [
    "## Multi-Dimensional Lists\n",
    "\n",
    "# Define a multi-dimensional list (nested list in Python)\n",
    "multi_dimensional = [\n",
    "    [1, 2, 3],\n",
    "    [4, 5, 6],\n",
    "    [7, 8, 9]\n",
    "]\n",
    "\n",
    "# 1. Accessing Elements\n",
    "print(\"\\nAccessing elements in a multi-dimensional list:\")\n",
    "print(f\"Element at Row 0, Column 1: {multi_dimensional[0][1]}\")\n",
    "print(f\"Element at Row 2, Column 2: {multi_dimensional[2][2]}\")\n",
    "\n"
   ]
  },
  {
   "cell_type": "code",
   "execution_count": 5,
   "metadata": {},
   "outputs": [
    {
     "name": "stdout",
     "output_type": "stream",
     "text": [
      "\n",
      "Iterating through a multi-dimensional list using indices:\n",
      "Row 0, Column 0: Value 1\n",
      "Row 0, Column 1: Value 2\n",
      "Row 0, Column 2: Value 3\n",
      "Row 1, Column 0: Value 4\n",
      "Row 1, Column 1: Value 5\n",
      "Row 1, Column 2: Value 6\n",
      "Row 2, Column 0: Value 7\n",
      "Row 2, Column 1: Value 8\n",
      "Row 2, Column 2: Value 9\n",
      "\n",
      "Iterating through a multi-dimensional list using a for-each loop:\n",
      "Value: 1\n",
      "Value: 2\n",
      "Value: 3\n",
      "Value: 4\n",
      "Value: 5\n",
      "Value: 6\n",
      "Value: 7\n",
      "Value: 8\n",
      "Value: 9\n"
     ]
    }
   ],
   "source": [
    "# 2. Iterating Through the List Using Indices\n",
    "print(\"\\nIterating through a multi-dimensional list using indices:\")\n",
    "for i in range(len(multi_dimensional)): # 0,1,2\n",
    "    for j in range(len(multi_dimensional[i])):# 0,1,2\n",
    "        print(f\"Row {i}, Column {j}: Value {multi_dimensional[i][j]}\")\n",
    "\n",
    "# 3. Iterating Using For-Each Loop\n",
    "print(\"\\nIterating through a multi-dimensional list using a for-each loop:\")\n",
    "for row in multi_dimensional:\n",
    "    for value in row:\n",
    "        print(f\"Value: {value}\")\n",
    "\n"
   ]
  },
  {
   "cell_type": "code",
   "execution_count": 13,
   "metadata": {},
   "outputs": [
    {
     "name": "stdout",
     "output_type": "stream",
     "text": [
      "\n",
      "Modifying elements in the multi-dimensional list:\n",
      "Updated multi-dimensional list: [[7, 8, 99], [10, 11, 99], [10, 11]]\n",
      "\n",
      "Adding and removing rows or columns:\n",
      "After adding a row: [[7, 8, 99], [10, 11, 99], [10, 11], 7]\n",
      "After removing the first row: [[10, 11, 99], [10, 11], 7]\n"
     ]
    }
   ],
   "source": [
    "#4. Modifying Elements\n",
    "print(\"\\nModifying elements in the multi-dimensional list:\")\n",
    "multi_dimensional[1][2] = 99  # Changing the element at Row 1, Column 2\n",
    "print(f\"Updated multi-dimensional list: {multi_dimensional}\")\n",
    "\n",
    "# 5. Adding and Removing Rows or Columns\n",
    "print(\"\\nAdding and removing rows or columns:\")\n",
    "multi_dimensional.append(7)  # Adding a new row\n",
    "print(f\"After adding a row: {multi_dimensional}\")\n",
    "multi_dimensional.pop(0)  # Removing the first row\n",
    "print(f\"After removing the first row: {multi_dimensional}\")\n",
    "\n",
    "\n"
   ]
  },
  {
   "cell_type": "code",
   "execution_count": 7,
   "metadata": {},
   "outputs": [
    {
     "name": "stdout",
     "output_type": "stream",
     "text": [
      "\n",
      "Flattening a multi-dimensional list:\n",
      "Flattened list: [4, 5, 99, 7, 8, 9, 10, 11, 12]\n",
      "\n",
      "Transposing a multi-dimensional list:\n",
      "Transposed list: [[4, 7, 10], [5, 8, 11], [99, 9, 12]]\n",
      "\n",
      "Summary:\n",
      "- Use indices to access or modify specific elements in lists.\n",
      "- For-each loops are convenient for iterating without needing indices.\n",
      "- Multi-dimensional lists require nested loops for complete traversal.\n",
      "- Python provides flexible operations like slicing, appending, and flattening for lists.\n"
     ]
    }
   ],
   "source": [
    "# 6. Flattening a Multi-Dimensional List\n",
    "print(\"\\nFlattening a multi-dimensional list:\")\n",
    "flattened = [value for row in multi_dimensional for value in row]\n",
    "print(f\"Flattened list: {flattened}\")\n",
    "\n",
    "# 7. Transposing a Multi-Dimensional List\n",
    "print(\"\\nTransposing a multi-dimensional list:\")\n",
    "transpose = [[multi_dimensional[j][i] for j in range(len(multi_dimensional))] for i in range(len(multi_dimensional[0]))]\n",
    "print(f\"Transposed list: {transpose}\")\n",
    "\n",
    "## Summary\n",
    "print(\"\\nSummary:\")\n",
    "print(\"- Use indices to access or modify specific elements in lists.\")\n",
    "print(\"- For-each loops are convenient for iterating without needing indices.\")\n",
    "print(\"- Multi-dimensional lists require nested loops for complete traversal.\")\n",
    "print(\"- Python provides flexible operations like slicing, appending, and flattening for lists.\")"
   ]
  },
  {
   "cell_type": "code",
   "execution_count": 8,
   "metadata": {},
   "outputs": [
    {
     "name": "stdout",
     "output_type": "stream",
     "text": [
      "['h', 'f', 'd']\n"
     ]
    }
   ],
   "source": [
    "letters = ['a', 'b', 'c', 'd', 'e', 'f', 'g', 'h']\n",
    "print(letters[-1:-6:-2])"
   ]
  },
  {
   "cell_type": "code",
   "execution_count": 11,
   "metadata": {},
   "outputs": [
    {
     "name": "stdout",
     "output_type": "stream",
     "text": [
      "['h', 'g', 'f', 'e', 'd', 'c', 'b', 'a']\n"
     ]
    }
   ],
   "source": [
    "print(letters[-1:-1000000000:-1]) # In order to reverse it. You start with the last element. ANd make steps until you have finished the list"
   ]
  }
 ],
 "metadata": {
  "kernelspec": {
   "display_name": "Python 3",
   "language": "python",
   "name": "python3"
  },
  "language_info": {
   "codemirror_mode": {
    "name": "ipython",
    "version": 3
   },
   "file_extension": ".py",
   "mimetype": "text/x-python",
   "name": "python",
   "nbconvert_exporter": "python",
   "pygments_lexer": "ipython3",
   "version": "3.10.4"
  }
 },
 "nbformat": 4,
 "nbformat_minor": 2
}
