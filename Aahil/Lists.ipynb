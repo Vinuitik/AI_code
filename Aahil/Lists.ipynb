{
 "cells": [
  {
   "cell_type": "code", 
   "execution_count": 2,
   "metadata": {},
   "outputs": [
    {
     "name": "stdout",
     "output_type": "stream",
     "text": [
      "Positive\n"
     ]
    }
   ],
   "source": [
    "value = 18\n",
    "\n",
    "if( value > 0):\n",
    "    print(\"Positive\")\n",
    "elif( value < 0 ):\n",
    "    print(\"Negative\")\n",
    "elif(value == 0):\n",
    "    print(\"Zero\")\n",
    "    \n"
   ]
  },
  {
   "cell_type": "code",
   "execution_count": 6,
   "metadata": {},
   "outputs": [],
   "source": [
    "numbers = [1,2]\n",
    "\n",
    "sum = 0\n",
    "cnt = 0\n",
    "for number in numbers:\n",
    "    sum+=number\n",
    "    cnt+=1"
   ]
  },
  {
   "cell_type": "code",
   "execution_count": 7,
   "metadata": {},
   "outputs": [
    {
     "name": "stdout",
     "output_type": "stream",
     "text": [
      "1.5\n"
     ]
    }
   ],
   "source": [
    "if(cnt == 0):\n",
    "    print(0)\n",
    "else:\n",
    "    result = sum/cnt\n",
    "    print(result)"
   ]
  },
  {
   "cell_type": "code",
   "execution_count": 8,
   "metadata": {},
   "outputs": [
    {
     "name": "stdout",
     "output_type": "stream",
     "text": [
      "1.5\n"
     ]
    }
   ],
   "source": [
    "sum = 0\n",
    "cnt = 0\n",
    "\n",
    "for number in numbers:\n",
    "    sum+=number\n",
    "    cnt+=1\n",
    "    \n",
    "if(cnt == 0):\n",
    "    print(0)\n",
    "else:\n",
    "    print(sum/cnt)\n"
   ]
  },
  {
   "cell_type": "code",
   "execution_count": 50,
   "metadata": {},
   "outputs": [
    {
     "name": "stdout",
     "output_type": "stream",
     "text": [
      "6\n"
     ]
    }
   ],
   "source": [
    "list = [ 1,2,\"Hello\",\"Hello\", 3.4, 5 ]\n",
    "\n",
    "print( len( list ) )"
   ]
  },
  {
   "cell_type": "code",
   "execution_count": 43,
   "metadata": {},
   "outputs": [
    {
     "name": "stdout",
     "output_type": "stream",
     "text": [
      "[]\n"
     ]
    }
   ],
   "source": [
    "print( list[2:0:2] )\n",
    "\n",
    "# list [ start:end:step ]"
   ]
  },
  {
   "cell_type": "code",
   "execution_count": 36,
   "metadata": {},
   "outputs": [
    {
     "name": "stdout",
     "output_type": "stream",
     "text": [
      "1\n",
      "Hello\n",
      "5\n"
     ]
    }
   ],
   "source": [
    "index = 0\n",
    "while index < 6:\n",
    "    print(list[index])\n",
    "    index+=2*list[index]"
   ]
  },
  {
   "cell_type": "code",
   "execution_count": 51,
   "metadata": {},
   "outputs": [
    {
     "name": "stdout",
     "output_type": "stream",
     "text": [
      "[1, 2, 'Hello', 'Hello', 3.4, 5, [1, 6]]\n"
     ]
    }
   ],
   "source": [
    "list.append([1,6])\n",
    "print(list)"
   ]
  },
  {
   "cell_type": "code",
   "execution_count": 48,
   "metadata": {},
   "outputs": [
    {
     "name": "stdout",
     "output_type": "stream",
     "text": [
      "6\n"
     ]
    }
   ],
   "source": [
    "print(list[-1][1])"
   ]
  },
  {
   "cell_type": "code",
   "execution_count": 52,
   "metadata": {},
   "outputs": [
    {
     "name": "stdout",
     "output_type": "stream",
     "text": [
      "[1, 2, 'Hello', 3.4, 5, [1, 6]]\n"
     ]
    }
   ],
   "source": [
    "list.remove(\"Hello\")\n",
    "\n",
    "print(list)"
   ]
  },
  {
   "cell_type": "code",
   "execution_count": 57,
   "metadata": {},
   "outputs": [],
   "source": [
    "for index in range(0, len(list)):\n",
    "    list[index]*=2 "
   ]
  },
  {
   "cell_type": "code",
   "execution_count": 58,
   "metadata": {},
   "outputs": [
    {
     "name": "stdout",
     "output_type": "stream",
     "text": [
      "[8, 4, 'HelloHello', 6.8, 10, [1, 6, 1, 6]]\n"
     ]
    }
   ],
   "source": [
    "list[0] = 2*list[0]\n",
    "\n",
    "print(list)"
   ]
  },
  {
   "cell_type": "code",
   "execution_count": null,
   "metadata": {},
   "outputs": [],
   "source": [
    "elements = int(input(\"How many elements do you want to add?\"))\n",
    "numbers = []\n",
    "\n",
    "for index in range(0, elements):\n",
    "    numbers.append( int(input( \" Your number: \" )) )\n",
    "    \n",
    "for index in range(0, len(numbers)):\n",
    "    number[index]*=2\n",
    "    \n",
    "print(numbers)"
   ]
  },
  {
   "cell_type": "markdown",
   "metadata": {},
   "source": [
    "MULTIDIMENSIONAL LISTS"
   ]
  },
  {
   "cell_type": "code",
   "execution_count": 19,
   "metadata": {},
   "outputs": [
    {
     "name": "stdout",
     "output_type": "stream",
     "text": [
      "0\n"
     ]
    }
   ],
   "source": [
    "variable = 18\n",
    "print( variable%2 )\n",
    "\n",
    "# In order to check of vriable is divisible by some number D, check that variable % D == 0"
   ]
  },
  {
   "cell_type": "code",
   "execution_count": 35,
   "metadata": {},
   "outputs": [],
   "source": [
    "# Manually created multidimensional list\n",
    "matrix = [\n",
    "    [1, 2, 3],\n",
    "    [4, 5, 6],\n",
    "    [7, 8, 9]\n",
    "]\n",
    "\n",
    "#print(len(matrix))\n",
    "#print(len(matrix[0]))\n",
    "\n",
    "#for row in matrix:\n",
    "#    for col in range(len(row)):\n",
    "#        row[col]*=2\n",
    "#    print(row)\n",
    "    \n",
    "#for row in matrix:\n",
    "#    print(row)\n",
    "    \n",
    "# UPDATED BOTH ONES EVEN THOUGH WAS SUPPOSED TO DO ONLY 1\n"
   ]
  },
  {
   "cell_type": "code",
   "execution_count": 2,
   "metadata": {},
   "outputs": [
    {
     "name": "stdout",
     "output_type": "stream",
     "text": [
      "[1, 2, 3]\n",
      "[4, 5, 6]\n",
      "[7, 8, 9]\n",
      "1 2 3 4 5 6 7 8 9 "
     ]
    }
   ],
   "source": [
    "# Iterating over rows\n",
    "for row in matrix:\n",
    "    print(row)\n",
    "\n",
    "# Iterating over elements\n",
    "for row in matrix:\n",
    "    for element in row:\n",
    "        print(element, end=\" \")\n"
   ]
  },
  {
   "cell_type": "code",
   "execution_count": 38,
   "metadata": {},
   "outputs": [
    {
     "name": "stdout",
     "output_type": "stream",
     "text": [
      "[1, 2, 3]\n",
      "[4, 5, 1000000]\n",
      "[7, 8, 9]\n"
     ]
    }
   ],
   "source": [
    "# Changing the element in the second row, third column\n",
    "matrix[1][2] = 1000000\n",
    "for row in matrix:\n",
    "    print(row)\n"
   ]
  },
  {
   "cell_type": "code",
   "execution_count": 4,
   "metadata": {},
   "outputs": [
    {
     "name": "stdout",
     "output_type": "stream",
     "text": [
      "[['X', 'O', 'X'], ['O', 'X', 'O'], ['X', 'O', 'X']]\n"
     ]
    }
   ],
   "source": [
    "board = [\n",
    "    ['X', 'O', 'X'],\n",
    "    ['O', 'X', 'O'],\n",
    "    ['X', 'O', 'X']\n",
    "]\n",
    "print(board)\n"
   ]
  },
  {
   "cell_type": "code",
   "execution_count": 5,
   "metadata": {},
   "outputs": [
    {
     "name": "stdout",
     "output_type": "stream",
     "text": [
      "49\n"
     ]
    }
   ],
   "source": [
    "total = 0\n",
    "for row in matrix:\n",
    "    total += sum(row)\n",
    "print(total)\n"
   ]
  },
  {
   "cell_type": "code",
   "execution_count": 8,
   "metadata": {},
   "outputs": [
    {
     "name": "stdout",
     "output_type": "stream",
     "text": [
      "[[0, 0, 0, 0], [0, 0, 0, 0], [0, 0, 0, 0], [0, 0, 0, 0]]\n"
     ]
    }
   ],
   "source": [
    "rows, cols = 4, 4\n",
    "zero_grid = [[0 for _ in range(cols)] for _ in range(rows)]\n",
    "print(zero_grid)\n"
   ]
  },
  {
   "cell_type": "code",
   "execution_count": 47,
   "metadata": {},
   "outputs": [
    {
     "name": "stdout",
     "output_type": "stream",
     "text": [
      "[1, 2, 3, 4, 5]\n",
      "[2, 4, 6, 8, 10]\n",
      "[3, 6, 9, 12, 15]\n",
      "[4, 8, 12, 16, 20]\n",
      "[5, 10, 15, 20, 25]\n"
     ]
    }
   ],
   "source": [
    "size = 5\n",
    "multiplication_table = [ [(row + 1) * (col + 1) for col in range(size)] for row in range(size)]\n",
    "for row in multiplication_table:\n",
    "    print(row)\n"
   ]
  },
  {
   "cell_type": "code",
   "execution_count": 11,
   "metadata": {},
   "outputs": [
    {
     "name": "stdout",
     "output_type": "stream",
     "text": [
      "[1, 0, 0, 0]\n",
      "[0, 1, 0, 0]\n",
      "[0, 0, 1, 0]\n",
      "[0, 0, 0, 1]\n"
     ]
    }
   ],
   "source": [
    "size = 4\n",
    "diagonal_matrix = [[1 if row == col else 0 for col in range(size)] for row in range(size)]\n",
    "for row in diagonal_matrix:\n",
    "    print(row)\n"
   ]
  },
  {
   "cell_type": "code",
   "execution_count": 45,
   "metadata": {},
   "outputs": [
    {
     "name": "stdout",
     "output_type": "stream",
     "text": [
      "[[1, 0, 0, 0], [0, 1, 0, 0]]\n"
     ]
    }
   ],
   "source": [
    "print(diagonal_matrix[0:3][0:2])"
   ]
  },
  {
   "cell_type": "markdown",
   "metadata": {},
   "source": [
    "nested_list = [\n",
    "    [<expression> for <inner_variable> in <inner_iterable>]\n",
    "    for <outer_variable> in <outer_iterable>\n",
    "]\n"
   ]
  },
  {
   "cell_type": "code",
   "execution_count": 14,
   "metadata": {},
   "outputs": [
    {
     "name": "stdout",
     "output_type": "stream",
     "text": [
      "1\n",
      "1\n",
      "1\n",
      "1\n"
     ]
    }
   ],
   "source": [
    "for row_sum in (sum(row) for row in multiplication_table):\n",
    "    print(row_sum)\n"
   ]
  },
  {
   "cell_type": "markdown",
   "metadata": {},
   "source": []
  },
  {
   "cell_type": "code",
   "execution_count": 39,
   "metadata": {},
   "outputs": [
    {
     "name": "stdout",
     "output_type": "stream",
     "text": [
      "10\n"
     ]
    }
   ],
   "source": [
    "numbers = [1, 2, 3, 4]\n",
    "print(sum(numbers))  # Output: 10\n"
   ]
  },
  {
   "cell_type": "code",
   "execution_count": 40,
   "metadata": {},
   "outputs": [
    {
     "name": "stdout",
     "output_type": "stream",
     "text": [
      "1\n"
     ]
    }
   ],
   "source": [
    "numbers = [4, 2, 9, 1]\n",
    "print(min(numbers))  # Output: 1\n"
   ]
  },
  {
   "cell_type": "code",
   "execution_count": 41,
   "metadata": {},
   "outputs": [
    {
     "name": "stdout",
     "output_type": "stream",
     "text": [
      "9\n"
     ]
    }
   ],
   "source": [
    "numbers = [4, 2, 9, 1]\n",
    "print(max(numbers))  # Output: 9\n"
   ]
  },
  {
   "cell_type": "code",
   "execution_count": 42,
   "metadata": {},
   "outputs": [
    {
     "name": "stdout",
     "output_type": "stream",
     "text": [
      "4\n"
     ]
    }
   ],
   "source": [
    "numbers = [1, 2, 3, 4]\n",
    "print(len(numbers))  # Output: 4\n"
   ]
  },
  {
   "cell_type": "markdown",
   "metadata": {},
   "source": [
    "[0, 1, 2, 3] - this is range(4)\n",
    "for index in numbers\n",
    "\n",
    "[\n",
    "    [0,0], [0,1], [0,2], [0,3] .... [0,n].\n",
    "    [1,0], [1,1], [1,2]\n",
    "    [2,0], [2,1], [2,2]\n",
    "]"
   ]
  },
  {
   "cell_type": "code",
   "execution_count": 51,
   "metadata": {},
   "outputs": [
    {
     "name": "stdout",
     "output_type": "stream",
     "text": [
      "1  = matrix[ 0 ][ 0 ]\n",
      "2  = matrix[ 0 ][ 1 ]\n",
      "3  = matrix[ 0 ][ 2 ]\n",
      "4  = matrix[ 1 ][ 0 ]\n",
      "5  = matrix[ 1 ][ 1 ]\n",
      "6  = matrix[ 1 ][ 2 ]\n",
      "7  = matrix[ 2 ][ 0 ]\n",
      "8  = matrix[ 2 ][ 1 ]\n",
      "9  = matrix[ 2 ][ 2 ]\n"
     ]
    }
   ],
   "source": [
    "matrix = [\n",
    "    [1, 2, 3],\n",
    "    [4, 5, 6],\n",
    "    [7, 8, 9]\n",
    "]\n",
    "\n",
    "\n",
    "\n",
    "\n",
    "for rowIndex in range( len(matrix) ): # [ 0,1,2 ]\n",
    "    for colIndex in range( len( matrix[rowIndex] ) ): # [ 0,1,2 ]\n",
    "        print( matrix[rowIndex][colIndex], \" = matrix[\", rowIndex,\"][\",colIndex,\"]\" ) "
   ]
  }
 ],
 "metadata": {
  "kernelspec": {
   "display_name": ".venv",
   "language": "python",
   "name": "python3"
  },
  "language_info": {
   "codemirror_mode": {
    "name": "ipython",
    "version": 3
   },
   "file_extension": ".py",
   "mimetype": "text/x-python",
   "name": "python",
   "nbconvert_exporter": "python",
   "pygments_lexer": "ipython3",
   "version": "3.10.4"
  }
 },
 "nbformat": 4,
 "nbformat_minor": 2
}
