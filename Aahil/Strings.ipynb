{
 "cells": [
  {
   "cell_type": "code",
   "execution_count": 5,
   "metadata": {},
   "outputs": [
    {
     "name": "stdout",
     "output_type": "stream",
     "text": [
      "World \n",
      "Hello\n"
     ]
    }
   ],
   "source": [
    "single_quote = 'Hello'\n",
    "double_quote = \"World \\nHello\"\n",
    "triple_quote = '''Multiline\n",
    "SOmething,\n",
    "SOmething,\n",
    "String'''\n",
    "\n",
    "print(double_quote)\n"
   ]
  },
  {
   "cell_type": "code",
   "execution_count": 6,
   "metadata": {},
   "outputs": [
    {
     "name": "stdout",
     "output_type": "stream",
     "text": [
      "P\n",
      "n\n"
     ]
    }
   ],
   "source": [
    "s = \"Python\"\n",
    "print(s[0])   # Output: 'P'\n",
    "print(s[-1])  # Output: 'n'\n"
   ]
  },
  {
   "cell_type": "code",
   "execution_count": 7,
   "metadata": {},
   "outputs": [
    {
     "name": "stdout",
     "output_type": "stream",
     "text": [
      "Progr\n",
      "Progr\n",
      "amming\n",
      "Pormig\n"
     ]
    }
   ],
   "source": [
    "s = \"Programming\"\n",
    "print(s[0:5])    \n",
    "print(s[:5])     \n",
    "print(s[5:])    \n",
    "print(s[::2])    \n"
   ]
  },
  {
   "cell_type": "code",
   "execution_count": 8,
   "metadata": {},
   "outputs": [
    {
     "name": "stdout",
     "output_type": "stream",
     "text": [
      "Hello World\n",
      "HelloHelloHello\n"
     ]
    }
   ],
   "source": [
    "s1 = \"Hello\"\n",
    "s2 = \"World\"\n",
    "print(s1 + \" \" + s2)  \n",
    "print(s1 * 3)         \n"
   ]
  },
  {
   "cell_type": "code",
   "execution_count": null,
   "metadata": {},
   "outputs": [
    {
     "name": "stdout",
     "output_type": "stream",
     "text": [
      "My name is Alice and I am 25 years old.\n",
      "My name is Alice and I am 25 years old.\n"
     ]
    },
    {
     "ename": "TypeError",
     "evalue": "%d format: a real number is required, not str",
     "output_type": "error",
     "traceback": [
      "\u001b[1;31m---------------------------------------------------------------------------\u001b[0m",
      "\u001b[1;31mTypeError\u001b[0m                                 Traceback (most recent call last)",
      "Cell \u001b[1;32mIn[11], line 11\u001b[0m\n\u001b[0;32m      8\u001b[0m \u001b[38;5;28mprint\u001b[39m(\u001b[38;5;124m\"\u001b[39m\u001b[38;5;124mMy name is \u001b[39m\u001b[38;5;132;01m{}\u001b[39;00m\u001b[38;5;124m and I am \u001b[39m\u001b[38;5;132;01m{}\u001b[39;00m\u001b[38;5;124m years old.\u001b[39m\u001b[38;5;124m\"\u001b[39m\u001b[38;5;241m.\u001b[39mformat(name, age))\n\u001b[0;32m     10\u001b[0m \u001b[38;5;66;03m# % formatting\u001b[39;00m\n\u001b[1;32m---> 11\u001b[0m \u001b[38;5;28mprint\u001b[39m(\u001b[38;5;124;43m\"\u001b[39;49m\u001b[38;5;124;43mMy name is \u001b[39;49m\u001b[38;5;132;43;01m%s\u001b[39;49;00m\u001b[38;5;124;43m and I am \u001b[39;49m\u001b[38;5;132;43;01m%d\u001b[39;49;00m\u001b[38;5;124;43m years old.\u001b[39;49m\u001b[38;5;124;43m\"\u001b[39;49m\u001b[43m \u001b[49m\u001b[38;5;241;43m%\u001b[39;49m\u001b[43m \u001b[49m\u001b[43m(\u001b[49m\u001b[43mage\u001b[49m\u001b[43m,\u001b[49m\u001b[43m \u001b[49m\u001b[43mname\u001b[49m\u001b[43m)\u001b[49m)\n",
      "\u001b[1;31mTypeError\u001b[0m: %d format: a real number is required, not str"
     ]
    }
   ],
   "source": [
    "name = \"Alice\"\n",
    "age = 25\n",
    "\n",
    "# f-string\n",
    "print(f\"My name is {name} and I am {age} years old.\")\n",
    "\n",
    "# format method\n",
    "print(\"My name is {} and I am {} years old.\".format(name, age))\n",
    "\n",
    "# % formatting\n",
    "print(\"My name is %s and I am %d years old.\" % (age, name))\n"
   ]
  },
  {
   "cell_type": "code",
   "execution_count": null,
   "metadata": {},
   "outputs": [],
   "source": [
    "print(\"Hello\\nWorld\")  # Output: Hello (new line) World\n"
   ]
  },
  {
   "cell_type": "code",
   "execution_count": 29,
   "metadata": {},
   "outputs": [
    {
     "name": "stdout",
     "output_type": "stream",
     "text": [
      "48\n",
      "P-+-y-+-t-+-h-+-o-+-n\n"
     ]
    }
   ],
   "source": [
    "s = \"Python\"\n",
    "listChar = list(s)\n",
    "\n",
    "#If you want to increment everything by 1 in order of alphabet\n",
    "\n",
    "#for character in listChar:\n",
    "#    print( chr(ord(character)+1) )\n",
    "    \n",
    "#chr - it takes an integer representing ASCII value and converts it to an actual integer\n",
    "\n",
    "print(ord('0'))\n",
    "    \n",
    "connected = '-+-'.join(listChar)\n",
    "\n",
    "print(connected)  # Output: 'Jython'\n"
   ]
  },
  {
   "cell_type": "code",
   "execution_count": 28,
   "metadata": {},
   "outputs": [
    {
     "name": "stdout",
     "output_type": "stream",
     "text": [
      "True\n",
      "3\n",
      "nohtyP\n",
      "3\n",
      "True\n"
     ]
    }
   ],
   "source": [
    "print(\"Python\" in \"Learn Python\")  # Output: True\n",
    "\n",
    "s = \"banana\"\n",
    "print(s.count(\"a\"))  # Output: 3\n",
    "\n",
    "s = \"Python\"\n",
    "reversed_s = s[::-1]  # Output: 'nohtyP'\n",
    "print(reversed_s)\n",
    "\n",
    "\n",
    "s = \"banana\"\n",
    "print(s.count(\"a\"))  # Output: 3\n",
    "\n",
    "s = \"12345\"\n",
    "print(s.isdigit())  # Output: True\n"
   ]
  },
  {
   "cell_type": "code",
   "execution_count": 32,
   "metadata": {},
   "outputs": [
    {
     "name": "stdout",
     "output_type": "stream",
     "text": [
      "!dlroW olleH\n"
     ]
    }
   ],
   "source": [
    "s = \"Hello World!\"\n",
    "\n",
    "listChar = list(s) # get the charachters for working\n",
    "\n",
    "length = len(listChar) # get the length for indexation\n",
    "\n",
    "reversedList = []\n",
    "\n",
    "for i in range(length):\n",
    "    reversedList.append( s[ length - 1 - i ] )\n",
    "    \n",
    "reversedString = ''.join(reversedList)\n",
    "    \n",
    "    \n",
    "print(reversedString)"
   ]
  }
 ],
 "metadata": {
  "kernelspec": {
   "display_name": "Python 3",
   "language": "python",
   "name": "python3"
  },
  "language_info": {
   "codemirror_mode": {
    "name": "ipython",
    "version": 3
   },
   "file_extension": ".py",
   "mimetype": "text/x-python",
   "name": "python",
   "nbconvert_exporter": "python",
   "pygments_lexer": "ipython3",
   "version": "3.10.4"
  }
 },
 "nbformat": 4,
 "nbformat_minor": 2
}
