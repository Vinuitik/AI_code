{
 "cells": [
  {
   "cell_type": "markdown",
   "metadata": {},
   "source": [
    "Write a Python program that takes a list of numbers as input. Use a loop to check each number in the list. If the number is even, print \"Even\", otherwise print \"Odd\". After that, print the sum of all even numbers in the list.\n"
   ]
  },
  {
   "cell_type": "markdown",
   "metadata": {},
   "source": [
    "Finds the maximum number in the list.\n",
    "Finds the minimum number in the list.\n",
    "Finds the sum of all elements using the sum() function.\n",
    "Finds the length of the list using the len() function."
   ]
  },
  {
   "cell_type": "markdown",
   "metadata": {},
   "source": [
    "Write a Python program that accepts a string input from the user and:\n",
    "Prints the string in reverse.\n",
    "Prints the string in all uppercase.\n",
    "Prints the number of vowels in the string."
   ]
  },
  {
   "cell_type": "markdown",
   "metadata": {},
   "source": [
    "Write a program that takes a list of numbers and prints out each number's classification as \"positive\", \"negative\", or \"zero\". After checking the classification of each number, print the sum of all positive numbers and the sum of all negative numbers separately.\n"
   ]
  },
  {
   "cell_type": "markdown",
   "metadata": {},
   "source": [
    "Write a program that takes a sentence as input and does the following:\n",
    "Calculates the total number of characters in the sentence using len().\n",
    "Calculates the total number of words in the sentence (by splitting the sentence into a list of words and using len()).\n",
    "Prints the total number of characters and words."
   ]
  }
 ],
 "metadata": {
  "language_info": {
   "name": "python"
  }
 },
 "nbformat": 4,
 "nbformat_minor": 2
}
