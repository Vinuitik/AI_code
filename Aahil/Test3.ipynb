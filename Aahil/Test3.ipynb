{
 "cells": [
  {
   "cell_type": "markdown",
   "metadata": {},
   "source": [
    "Easy Section (10 points each)\n",
    "\n",
    "Lists Basics: What is the output of the following code?\n",
    "\n",
    "numbers = [3, 6, 9]\n",
    "numbers.append(12)\n",
    "print(numbers)\n",
    "\n",
    "String Slicing: Given s = \"PythonProgramming\", what does print(s[6:]) output?\n",
    "\n",
    "Functions Basics: Write a Python function that takes two numbers as arguments and returns their sum.\n",
    "\n",
    "Array Indexing: What will my_list = [\"apple\", \"banana\", \"cherry\"] return for my_list[1]?\n",
    "\n",
    "String Methods: What does print(\"hello\".upper()) output?\n",
    "\n"
   ]
  },
  {
   "cell_type": "markdown",
   "metadata": {},
   "source": [
    "Medium Section (15 points each)\n",
    "\n",
    "List Comprehension: Convert the following for-loop into a list comprehension:\n",
    "\n",
    "squares = []\n",
    "for i in range(5):\n",
    "    squares.append(i**2)\n",
    "\n",
    "String Manipulation: Write a function that takes a string and returns it reversed.\n",
    "\n",
    "Functions with Default Arguments: Modify this function so b has a default value of 10:\n",
    "\n",
    "def multiply(a, b):\n",
    "    return a * b\n",
    "\n",
    "List Modification: Given lst = [1, 2, 3, 4], write a Python command to replace the second element with 99.\n",
    "\n",
    "Finding Maximum: Write a function that takes a list and returns the largest element without using max().\n",
    "\n"
   ]
  }
 ],
 "metadata": {
  "language_info": {
   "name": "python"
  }
 },
 "nbformat": 4,
 "nbformat_minor": 2
}
